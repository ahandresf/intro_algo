{
 "cells": [
  {
   "attachments": {},
   "cell_type": "markdown",
   "metadata": {},
   "source": [
    "INSERTION AND SORT\n",
    "\n",
    "This algorithm sort a given sequence of number by:\n",
    "* start in the second element and called key (pivot, moving card, element we are moving to left).\n",
    "* compare that element with an element i which initially is the one in the left of the keey, as you iterate i will decrease (in other words we keep moving the key to the left or comparing with elements i more in the left of the list), this iteration-comparison will continue until key bigger than the element i. \n",
    "* at any point the element i is smaller than key, we insert the key on the right of that element and we take the new key as the element that was exactly on the right of where we initially select the key."
   ]
  },
  {
   "cell_type": "code",
   "execution_count": 17,
   "metadata": {},
   "outputs": [
    {
     "name": "stdout",
     "output_type": "stream",
     "text": [
      "idx:0 key:one\n",
      "idx:1 key:two\n",
      "idx:2 key:three\n",
      "*****\n",
      "i:0 key:three\n",
      "i:1 key:two\n",
      "i:2 key:one\n",
      "i:3 key:zero\n"
     ]
    }
   ],
   "source": [
    "#EXAMPLES OF CODE ROUTINES USE (you can skip)\n",
    "#This is just to describe the logic of the for loop we will use, you can skip and come back if you need only.\n",
    "#we need the key to start with the second element and the element to compare or index wiwill be on in the left\n",
    "#this logic is just to show you how we implemented below in the other code.\n",
    "l=['zero','one','two','three']\n",
    "for idx, key in enumerate(l[1::]):\n",
    "    print('idx:'+str(idx)+' key:'+key)\n",
    "print('*'*5)\n",
    "#iterate over a list backwards\n",
    "for i,element in enumerate(reversed(l)):\n",
    "    print('i:'+str(i)+' key:'+element)"
   ]
  },
  {
   "cell_type": "code",
   "execution_count": 27,
   "metadata": {},
   "outputs": [],
   "source": [
    "def insert_sort(original_list):\n",
    "    #key start in the second element or element [1]\n",
    "    for idx, key in enumerate(original_list[1::]):\n",
    "        #iterate the part of the list on the left of key backwards\n",
    "        for i,element in enumerate(reversed(original_list[0:idx])):\n",
    "            if element<key:\n",
    "                new_key_position=idx-i+1 #key was one position on the right of idx, i: shift to the left\n",
    "                if i>0 :\n",
    "                    original_list=original_list[0:new_key_position]+[key]+original_list[new_key_position::] \n",
    "    return original_list  "
   ]
  },
  {
   "cell_type": "code",
   "execution_count": 36,
   "metadata": {},
   "outputs": [],
   "source": [
    "def insert_sort(x):\n",
    "    for idx in range(len(x) - 1):\n",
    "        j = idx + 1\n",
    "        key = x[j]\n",
    "        i = j - 1\n",
    "\n",
    "        while i > 0 and x[i] > key:\n",
    "            x[i+1]=x[i]\n",
    "            i = i - 1\n",
    "        x[i + 1] =key\n",
    "    sorted_array = x\n",
    "\n",
    "    return(sorted_array)"
   ]
  },
  {
   "cell_type": "code",
   "execution_count": 38,
   "metadata": {},
   "outputs": [
    {
     "name": "stdout",
     "output_type": "stream",
     "text": [
      "output [0, 1, 2, 3, 4, 5, 10]\n"
     ]
    }
   ],
   "source": [
    "#test the insert sort function\n",
    "input_list=[0,10,3,2,4,5,1]\n",
    "output=insert_sort(input_list)\n",
    "print('output',output)"
   ]
  }
 ],
 "metadata": {
  "kernelspec": {
   "display_name": "env_test",
   "language": "python",
   "name": "python3"
  },
  "language_info": {
   "codemirror_mode": {
    "name": "ipython",
    "version": 3
   },
   "file_extension": ".py",
   "mimetype": "text/x-python",
   "name": "python",
   "nbconvert_exporter": "python",
   "pygments_lexer": "ipython3",
   "version": "3.10.11"
  },
  "orig_nbformat": 4
 },
 "nbformat": 4,
 "nbformat_minor": 2
}
